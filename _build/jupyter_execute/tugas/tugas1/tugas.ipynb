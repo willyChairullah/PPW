{
 "cells": [
  {
   "cell_type": "markdown",
   "id": "6b1cb70a",
   "metadata": {},
   "source": [
    "# Profil\n",
    "\n",
    "Halo! 👋\n",
    "\n",
    "Saya **Willy Chairullah Fauzi Putra**, mahasiswa aktif di **Teknik Informatika, Universitas Trunojoyo Madura**. Saya memiliki ketertarikan besar pada dunia teknologi, khususnya di bidang **pengembangan web** dan **analisis data** . Selain belajar di kampus, saya juga aktif mengembangkan skill melalui berbagai proyek dan komunitas.\n",
    "\n",
    "> _\"Belajar bukan hanya tentang mendapatkan nilai, tapi juga tentang membangun pemahaman dan pengalaman yang bermanfaat untuk masa depan.\"_\n",
    "\n",
    "```{admonition} Informasi Pribadi\n",
    ":class: info\n",
    "\n",
    "**Nama**  : Willy Chairullah Fauzi Putra<br>\n",
    "**NPM**   : 220411100045<br>\n",
    "**Email** : willy.chairullah@gmail.com\n",
    "```\n",
    "\n",
    "#### Minat & Fokus\n",
    "\n",
    "::::{grid}\n",
    ":gutter: 2\n",
    "\n",
    ":::{grid-item-card} Web\n",
    "{bdg-primary}`React`\n",
    "{bdg-primary}`NodeJs`\n",
    ":::\n",
    "\n",
    ":::{grid-item-card} Analisis data\n",
    "{bdg-secondary}`NLP`\n",
    ":::\n",
    "::::\n",
    "\n",
    "<br>\n",
    "\n",
    "# Web Mining\n",
    "\n",
    "## Pengantar Web Mining\n",
    "\n",
    "Web mining adalah proses mengekstrak informasi yang menggunakan teknik data mining untuk mengekstraksi pola berharga dari sumber yang berhabitat di internet. Disiplin ini terbagi ke dalam tiga lapangan utama: penggalian konten (web content mining), penggalian struktur (web structure mining), dan penggalian penggunaan (web usage mining).\n",
    "\n",
    "### Web Crawling:\n",
    "\n",
    "Langkah awal adalah Web Crawling, yaitu proses pengambilan data dari sebuah halaman web secara otomatis. ini biasanya menggunakan alat yang dibuat dengan bahasa pemrograman seperti Python. Web crawler perlu mengikuti tautan dari satu halaman ke halaman lain supaya informasi yang diperoleh lebih banyak dan saling terhubung, membentuk data yang lebih terstruktur dan kaya.\n",
    "\n",
    "### Web Data Preprocessing:\n",
    "\n",
    "Setelah data dikumpulkan, data itu masih mentah alias berantakan. Oleh karena itu, kita perlu melakukan Preprocessing. Tujuannya adalah untuk membersihkan dan merapikan data agar siap diproses oleh mesin, misalnya dengan menghapus tag HTML yang tidak relevan, menangani data yang hilang, atau menyamakan format data.\n",
    "\n",
    "### Web Structure Mining:\n",
    "\n",
    "Fokus pada bagaimana halaman-halaman web saling terhubung melalui hyperlink. ini sangat berguna karena situs yang banyak ditautkan menjadi referensi dan memiliki urutan teratas dalam hasil SEO.\n",
    "\n",
    "### Web Content Mining:\n",
    "\n",
    "Menambang konten dari web, yaitu teks, gambar, video, dan audio. Dalam teks, kita bisa mengekstrak informasi spesifik seperti tempat kejadian, tanggal, dan orang yang terlibat menggunakan teknik Named-Entity Recognition (NER).\n",
    "\n",
    "### Web Usage Mining:\n",
    "\n",
    "Fokus pada analisis perilaku pengguna, bukan kontennya manfaatnya sangat banyak, seperti untuk memberikan rekomendasi produk, menempatkan konten populer di halaman utama, dan membuat kategori berita yang sering dibaca. Selain itu, teknik ini juga bisa digunakan untuk optimasi desain situs dan personalisasi konten.\n",
    "\n",
    "### Pembelajaran Terawasi (Supervised Learning):\n",
    "\n",
    "Membutuhkan data yang sudah dilabeli. Pelabelan ini harus dilakukan secara manual terlebih dahulu, misalnya untuk mengklasifikasikan sentimen sebuah komentar.\n",
    "\n",
    "### Pembelajaran Tak Terawasi (Unsupervised Learning):\n",
    "\n",
    "Tidak memerlukan data berlabel. Clustering adalah salah satu metodenya untuk mengelompokkan data yang mirip. Metode lain termasuk association rule mining dan dimensionality reduction untuk menemukan pola tersembunyi.\n",
    "\n",
    "### Deployment System:\n",
    "\n",
    "Tahap terakhir adalah Deployment System. Ini adalah proses di mana model yang sudah dilatih diubah menjadi sistem yang bisa digunakan secara nyata oleh pengguna atau perusahaan. Seperti yang sudah kita diskusikan, ini mengubah model yang hanya berupa kode menjadi sistem fungsional yang bisa diakses dan memberikan manfaat secara langsung."
   ]
  }
 ],
 "metadata": {
  "jupytext": {
   "formats": "md:myst",
   "text_representation": {
    "extension": ".md",
    "format_name": "myst",
    "format_version": 0.13,
    "jupytext_version": "1.11.5"
   }
  },
  "kernelspec": {
   "display_name": "Python 3",
   "language": "python",
   "name": "python3"
  },
  "language_info": {
   "codemirror_mode": {
    "name": "ipython",
    "version": 3
   },
   "file_extension": ".py",
   "mimetype": "text/x-python",
   "name": "python",
   "nbconvert_exporter": "python",
   "pygments_lexer": "ipython3",
   "version": "3.10.6"
  },
  "source_map": [
   13
  ]
 },
 "nbformat": 4,
 "nbformat_minor": 5
}