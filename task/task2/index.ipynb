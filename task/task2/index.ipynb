{
  "cells": [
    {
      "cell_type": "markdown",
      "metadata": {},
      "source": [
        "# crawling"
      ]
    },
    {
      "cell_type": "markdown",
      "metadata": {},
      "source": [
        "## import library"
      ]
    },
    {
      "cell_type": "code",
      "execution_count": 6,
      "metadata": {
        "colab": {
          "base_uri": "https://localhost:8080/"
        },
        "id": "h9-hUzMSSl5L",
        "outputId": "40e879d9-edef-47c6-a390-b2bbe23dbed3"
      },
      "outputs": [
        {
          "name": "stdout",
          "output_type": "stream",
          "text": [
            "Requirement already satisfied: sprynger in c:\\users\\willy\\appdata\\local\\programs\\python\\python310\\lib\\site-packages (0.4.1)\n",
            "Requirement already satisfied: lxml in c:\\users\\willy\\appdata\\local\\programs\\python\\python310\\lib\\site-packages (from sprynger) (4.9.1)\n",
            "Requirement already satisfied: requests in c:\\users\\willy\\appdata\\local\\programs\\python\\python310\\lib\\site-packages (from sprynger) (2.32.3)\n",
            "Requirement already satisfied: urllib3 in c:\\users\\willy\\appdata\\local\\programs\\python\\python310\\lib\\site-packages (from sprynger) (1.26.20)\n",
            "Requirement already satisfied: platformdirs in c:\\users\\willy\\appdata\\local\\programs\\python\\python310\\lib\\site-packages (from sprynger) (2.5.2)\n",
            "Requirement already satisfied: tomli>=1.2.3 in c:\\users\\willy\\appdata\\local\\programs\\python\\python310\\lib\\site-packages (from sprynger) (2.0.1)\n",
            "Requirement already satisfied: charset-normalizer<4,>=2 in c:\\users\\willy\\appdata\\local\\programs\\python\\python310\\lib\\site-packages (from requests->sprynger) (3.3.2)\n",
            "Requirement already satisfied: idna<4,>=2.5 in c:\\users\\willy\\appdata\\local\\programs\\python\\python310\\lib\\site-packages (from requests->sprynger) (3.7)\n",
            "Requirement already satisfied: certifi>=2017.4.17 in c:\\users\\willy\\appdata\\local\\programs\\python\\python310\\lib\\site-packages (from requests->sprynger) (2025.8.3)\n",
            "Note: you may need to restart the kernel to use updated packages.\n"
          ]
        },
        {
          "name": "stderr",
          "output_type": "stream",
          "text": [
            "\n",
            "[notice] A new release of pip is available: 24.1 -> 25.2\n",
            "[notice] To update, run: python.exe -m pip install --upgrade pip\n"
          ]
        }
      ],
      "source": [
        "pip install sprynger"
      ]
    },
    {
      "cell_type": "markdown",
      "metadata": {},
      "source": [
        "## Crawling code"
      ]
    },
    {
      "cell_type": "code",
      "execution_count": 9,
      "metadata": {
        "colab": {
          "base_uri": "https://localhost:8080/"
        },
        "id": "BzRxDlyNtqsg",
        "outputId": "dc82d715-8289-4be8-c105-1e1abb910bfe"
      },
      "outputs": [
        {
          "name": "stdout",
          "output_type": "stream",
          "text": [
            "File hasil_crawling.csv sudah ada. Menggunakan data yang tersimpan.\n",
            "Data berhasil dimuat: 40 records\n"
          ]
        }
      ],
      "source": [
        "import requests\n",
        "import pandas as pd\n",
        "import os\n",
        "\n",
        "# Ganti dengan API Key Anda\n",
        "api_key = \"a3c3a1f56a54bb1ecd18b7f5f128f1c3\"\n",
        "# Variasi kata kunci (dikurangi untuk menghindari timeout)\n",
        "keywords = [\"web mining\", \"data mining\"]\n",
        "\n",
        "# Check if file already exists to avoid re-crawling during builds\n",
        "if os.path.exists('hasil_crawling.csv'):\n",
        "    print(\"File hasil_crawling.csv sudah ada. Menggunakan data yang tersimpan.\")\n",
        "    df = pd.read_csv('hasil_crawling.csv')\n",
        "    print(f\"Data berhasil dimuat: {len(df)} records\")\n",
        "else:\n",
        "    results = []\n",
        "    \n",
        "    for keyword in keywords:\n",
        "        try:\n",
        "            url = \"https://api.springernature.com/meta/v2/json\"\n",
        "            params = {\n",
        "                \"q\": keyword,  \n",
        "                \"api_key\": api_key,\n",
        "                \"p\": 5  # Dikurangi dari 10 ke 5 untuk mengurangi waktu eksekusi\n",
        "            }\n",
        "\n",
        "            response = requests.get(url, params=params, timeout=10)\n",
        "\n",
        "            if response.status_code == 200:\n",
        "                data = response.json()\n",
        "                records = data.get('records', [])\n",
        "\n",
        "                for record in records:\n",
        "                    doi = record.get('doi', 'No DOI')\n",
        "                    title = record.get('title', 'No Title')\n",
        "                    abstract = record.get('abstract', 'No Abstract')\n",
        "\n",
        "                    results.append({\n",
        "                        'Keyword': keyword,\n",
        "                        'DOI': doi,\n",
        "                        'Title': title,\n",
        "                        'Abstract': abstract\n",
        "                    })\n",
        "            else:\n",
        "                print(f\"Error for keyword '{keyword}':\", response.status_code)\n",
        "                \n",
        "        except requests.exceptions.Timeout:\n",
        "            print(f\"Timeout untuk keyword '{keyword}' - melanjutkan ke keyword berikutnya\")\n",
        "        except Exception as e:\n",
        "            print(f\"Error untuk keyword '{keyword}': {str(e)}\")\n",
        "\n",
        "    df = pd.DataFrame(results)\n",
        "    \n",
        "    if not df.empty:\n",
        "        df.to_csv('hasil_crawling.csv', index=False)\n",
        "        print(f\"Data telah disimpan ke hasil_crawling.csv: {len(df)} records\")\n",
        "    else:\n",
        "        print(\"Tidak ada data yang berhasil di-crawl\")"
      ]
    },
    {
      "cell_type": "markdown",
      "metadata": {},
      "source": [
        "## Display result"
      ]
    },
    {
      "cell_type": "code",
      "execution_count": 8,
      "metadata": {
        "colab": {
          "base_uri": "https://localhost:8080/"
        },
        "id": "zJ48udeMvVZ7",
        "outputId": "2afe46fe-fd34-4fac-91c3-9e94909cdae1"
      },
      "outputs": [
        {
          "name": "stdout",
          "output_type": "stream",
          "text": [
            "      Keyword                           DOI  \\\n",
            "0  web mining   10.1007/978-3-032-00983-8_5   \n",
            "1  web mining   10.1007/978-3-031-93802-3_7   \n",
            "2  web mining   10.1007/978-981-96-7238-7_2   \n",
            "3  web mining  10.1007/978-3-031-95296-8_15   \n",
            "4  web mining   10.1007/978-3-031-90470-7_6   \n",
            "\n",
            "                                               Title  \\\n",
            "0  Survey on Data Mining and Machine Learning Met...   \n",
            "1  Unveiling Power Laws in Graph Mining: Techniqu...   \n",
            "2  Architecture Mining Approach for Systems-of-Sy...   \n",
            "3  A Mathematical Model and Algorithm for Data An...   \n",
            "4  ‘Internet of Things’ and ‘Social Networking’: ...   \n",
            "\n",
            "                                            Abstract  \n",
            "0  It is observed that the Mental illness by the ...  \n",
            "1  Power laws play a crucial role in understandin...  \n",
            "2  Context: Systems of Systems (SoS) constitute a...  \n",
            "3  Machine learning methods play an important rol...  \n",
            "4  Moving to the post-2000 period, or the post-fo...  \n"
          ]
        }
      ],
      "source": [
        "import pandas as pd\n",
        "\n",
        "file_path = 'hasil_crawling.csv' \n",
        "df = pd.read_csv(file_path)\n",
        "\n",
        "# print(df)\n",
        "\n",
        "# Jika Anda ingin melihat beberapa baris pertama dari DataFrame\n",
        "print(df.head())"
      ]
    },
    {
      "cell_type": "code",
      "execution_count": 10,
      "metadata": {},
      "outputs": [
        {
          "name": "stdout",
          "output_type": "stream",
          "text": [
            "=== INFORMASI DATASET ===\n",
            "Total records: 40\n",
            "Kolom: ['Keyword', 'DOI', 'Title', 'Abstract']\n",
            "\n",
            "Distribusi per keyword:\n",
            "Keyword\n",
            "web mining               10\n",
            "web usage mining         10\n",
            "data mining              10\n",
            "information retrieval    10\n",
            "Name: count, dtype: int64\n",
            "\n",
            "Shape dataset: (40, 4)\n"
          ]
        }
      ],
      "source": [
        "# Menampilkan informasi dataset\n",
        "print(\"=== INFORMASI DATASET ===\")\n",
        "print(f\"Total records: {len(df)}\")\n",
        "print(f\"Kolom: {list(df.columns)}\")\n",
        "print(f\"\\nDistribusi per keyword:\")\n",
        "print(df['Keyword'].value_counts())\n",
        "print(f\"\\nShape dataset: {df.shape}\")"
      ]
    }
  ],
  "metadata": {
    "colab": {
      "provenance": []
    },
    "kernelspec": {
      "display_name": "Python 3",
      "name": "python3"
    },
    "language_info": {
      "codemirror_mode": {
        "name": "ipython",
        "version": 3
      },
      "file_extension": ".py",
      "mimetype": "text/x-python",
      "name": "python",
      "nbconvert_exporter": "python",
      "pygments_lexer": "ipython3",
      "version": "3.10.6"
    }
  },
  "nbformat": 4,
  "nbformat_minor": 0
}
